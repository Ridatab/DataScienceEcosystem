{
 "cells": [
  {
   "cell_type": "markdown",
   "id": "925a9ef9",
   "metadata": {},
   "source": [
    "# Data Science Tools and Ecosystem"
   ]
  },
  {
   "cell_type": "markdown",
   "id": "952743f2",
   "metadata": {},
   "source": [
    "###### In this notebook, Data Science Tools and Ecosystem are summarized"
   ]
  },
  {
   "cell_type": "markdown",
   "id": "55879ddc",
   "metadata": {},
   "source": [
    "**Objectives:**\n",
    "* Popular languages of Data Scientists\n",
    "* Commonly used libraries in Data Science\n",
    "* Data Science Tools\n",
    "* Evaluating Arithematic Expression"
   ]
  },
  {
   "cell_type": "markdown",
   "id": "8831ce49",
   "metadata": {},
   "source": [
    "###### Some of the popular languages that Data Scientists use are:"
   ]
  },
  {
   "cell_type": "markdown",
   "id": "e448b6fc",
   "metadata": {},
   "source": [
    "1. Python\n",
    "2. R\n",
    "3. SQL\n",
    "4. Java\n",
    "5. Scala\n",
    "6. C++\n",
    "7. JavaScript\n",
    "8. Julia"
   ]
  },
  {
   "cell_type": "markdown",
   "id": "f57a9d65",
   "metadata": {},
   "source": [
    "###### Some of the commonly used libraries used by Data Scientists include:"
   ]
  },
  {
   "cell_type": "markdown",
   "id": "d50ea3e6",
   "metadata": {},
   "source": [
    "1. Pandas\n",
    "2. NumPy\n",
    "3. Matplot lib\n",
    "4. Seaborn\n",
    "5. Scikit learn\n",
    "6. Keras\n",
    "7. Tenserflow\n",
    "8. PyTorch\n",
    "9. Apache Spark\n",
    "10. Vegas lib\n",
    "11. ggplot\n"
   ]
  },
  {
   "cell_type": "markdown",
   "id": "c59dcdb5",
   "metadata": {},
   "source": [
    "###### Data Science Tools"
   ]
  },
  {
   "cell_type": "markdown",
   "id": "e26c0859",
   "metadata": {},
   "source": [
    "|Data Science Tools|\n",
    "|------------------|\n",
    "|Apache Spark|\n",
    "|Tenserflow lite|\n",
    "|Redhat Open shift|"
   ]
  },
  {
   "cell_type": "markdown",
   "id": "f88aafe3",
   "metadata": {},
   "source": [
    "### Below are a few examples of evaluating arithmetic expressions in Python"
   ]
  },
  {
   "cell_type": "code",
   "execution_count": 1,
   "id": "54d3a7f9",
   "metadata": {},
   "outputs": [
    {
     "data": {
      "text/plain": [
       "17"
      ]
     },
     "execution_count": 1,
     "metadata": {},
     "output_type": "execute_result"
    }
   ],
   "source": [
    "# This a simple arithmetic expression to mutiply then add integers\n",
    "(3*4)+5"
   ]
  },
  {
   "cell_type": "code",
   "execution_count": 2,
   "id": "8049ce3e",
   "metadata": {},
   "outputs": [
    {
     "data": {
      "text/plain": [
       "3"
      ]
     },
     "execution_count": 2,
     "metadata": {},
     "output_type": "execute_result"
    }
   ],
   "source": [
    "# This will convert 200 minutes to hours by diving by 60\n",
    "200//60"
   ]
  },
  {
   "cell_type": "markdown",
   "id": "68a3b66a",
   "metadata": {},
   "source": [
    "## Author\n",
    "Rida Tabassum"
   ]
  },
  {
   "cell_type": "code",
   "execution_count": null,
   "id": "dbf4a1fc",
   "metadata": {},
   "outputs": [],
   "source": []
  }
 ],
 "metadata": {
  "kernelspec": {
   "display_name": "Python 3 (ipykernel)",
   "language": "python",
   "name": "python3"
  },
  "language_info": {
   "codemirror_mode": {
    "name": "ipython",
    "version": 3
   },
   "file_extension": ".py",
   "mimetype": "text/x-python",
   "name": "python",
   "nbconvert_exporter": "python",
   "pygments_lexer": "ipython3",
   "version": "3.10.9"
  }
 },
 "nbformat": 4,
 "nbformat_minor": 5
}
